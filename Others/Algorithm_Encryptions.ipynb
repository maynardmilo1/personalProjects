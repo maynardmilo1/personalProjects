{
  "nbformat": 4,
  "nbformat_minor": 0,
  "metadata": {
    "colab": {
      "provenance": []
    },
    "kernelspec": {
      "name": "python3",
      "display_name": "Python 3"
    },
    "language_info": {
      "name": "python"
    }
  },
  "cells": [
    {
      "cell_type": "code",
      "execution_count": null,
      "metadata": {
        "colab": {
          "base_uri": "https://localhost:8080/"
        },
        "id": "T60ivbLU_5qu",
        "outputId": "10d65c76-9bb1-4543-f141-906e4dc809b0"
      },
      "outputs": [
        {
          "output_type": "stream",
          "name": "stdout",
          "text": [
            "Collecting pycryptodome\n",
            "  Downloading pycryptodome-3.19.0-cp35-abi3-manylinux_2_17_x86_64.manylinux2014_x86_64.whl (2.1 MB)\n",
            "\u001b[2K     \u001b[90m━━━━━━━━━━━━━━━━━━━━━━━━━━━━━━━━━━━━━━━━\u001b[0m \u001b[32m2.1/2.1 MB\u001b[0m \u001b[31m24.5 MB/s\u001b[0m eta \u001b[36m0:00:00\u001b[0m\n",
            "\u001b[?25hInstalling collected packages: pycryptodome\n",
            "Successfully installed pycryptodome-3.19.0\n"
          ]
        }
      ],
      "source": [
        "pip install pycryptodome\n"
      ]
    },
    {
      "cell_type": "code",
      "source": [
        "from Crypto.Cipher import DES\n",
        "from Crypto.Random import get_random_bytes\n",
        "\n",
        "def des_encrypt(plaintext, key):\n",
        "    cipher = DES.new(key, DES.MODE_ECB)\n",
        "    ciphertext = cipher.encrypt(plaintext)\n",
        "    return ciphertext\n",
        "\n",
        "def main():\n",
        "    plaintext = bytes.fromhex(\"6D9C4A78083E5CA1\")\n",
        "    key = bytes.fromhex(\"1334567ACEF13579\")\n",
        "\n",
        "    if len(plaintext) % 8 != 0:\n",
        "        plaintext = plaintext.ljust((len(plaintext) // 8 + 1) * 8, b'\\0')\n",
        "\n",
        "    ciphertext = des_encrypt(plaintext, key)\n",
        "\n",
        "    print(\"Plaintext:\", plaintext.hex())\n",
        "    print(\"Key:\", key.hex())\n",
        "    print(\"Ciphertext:\", ciphertext.hex())\n",
        "\n",
        "if __name__ == \"__main__\":\n",
        "    main()\n"
      ],
      "metadata": {
        "colab": {
          "base_uri": "https://localhost:8080/"
        },
        "id": "M4rTNoFGAAxh",
        "outputId": "0b9263da-2428-4a2d-f490-2745e55adb38"
      },
      "execution_count": null,
      "outputs": [
        {
          "output_type": "stream",
          "name": "stdout",
          "text": [
            "Plaintext: 6d9c4a78083e5ca1\n",
            "Key: 1334567acef13579\n",
            "Ciphertext: b3f220237b7645aa\n"
          ]
        }
      ]
    },
    {
      "cell_type": "code",
      "source": [
        "from Crypto.Util import number\n",
        "\n",
        "def generate_key_pair(p, q, e, d):\n",
        "    n = p * q\n",
        "\n",
        "    public_key = (n, e)\n",
        "    private_key = (n, d)\n",
        "\n",
        "    return public_key, private_key\n",
        "\n",
        "def encrypt_message(public_key, message):\n",
        "    n, e = public_key\n",
        "    ciphertext = pow(message, e, n)\n",
        "    return ciphertext\n",
        "\n",
        "def decrypt_message(private_key, ciphertext):\n",
        "    n, d = private_key\n",
        "    plaintext = pow(ciphertext, d, n)\n",
        "    return plaintext\n",
        "\n",
        "def main():\n",
        "    p = 13\n",
        "    q = 23\n",
        "    e = 5\n",
        "    d = 53\n",
        "\n",
        "    public_key, private_key = generate_key_pair(p, q, e, d)\n",
        "\n",
        "    message = 65\n",
        "\n",
        "    ciphertext = encrypt_message(public_key, message)\n",
        "    print(\"Encrypted Message:\", ciphertext)\n",
        "\n",
        "    decrypted_message = decrypt_message(private_key, ciphertext)\n",
        "    print(\"Decrypted Message:\", decrypted_message)\n",
        "\n",
        "if __name__ == \"__main__\":\n",
        "    main()\n"
      ],
      "metadata": {
        "colab": {
          "base_uri": "https://localhost:8080/"
        },
        "id": "qevrrvldBpI2",
        "outputId": "ef6648fb-caad-4fd7-cb1d-9bd480568bd1"
      },
      "execution_count": null,
      "outputs": [
        {
          "output_type": "stream",
          "name": "stdout",
          "text": [
            "Encrypted Message: 195\n",
            "Decrypted Message: 65\n"
          ]
        }
      ]
    },
    {
      "cell_type": "code",
      "source": [
        "def diffie_hellman(prime, g, private_key):\n",
        "    public_key = pow(g, private_key, prime)\n",
        "    return public_key\n",
        "\n",
        "def shared_secret(prime, public_key, private_key):\n",
        "    secret_key = pow(public_key, private_key, prime)\n",
        "    return secret_key\n",
        "\n",
        "def main():\n",
        "    prime = 11\n",
        "    g = 5\n",
        "\n",
        "    private_key_user1 = 4\n",
        "    private_key_user2 = 8\n",
        "\n",
        "    public_key_user1 = diffie_hellman(prime, g, private_key_user1)\n",
        "    public_key_user2 = diffie_hellman(prime, g, private_key_user2)\n",
        "\n",
        "    secret_user1 = shared_secret(prime, public_key_user2, private_key_user1)\n",
        "    secret_user2 = shared_secret(prime, public_key_user1, private_key_user2)\n",
        "\n",
        "    print(\"Public Key User 1:\", public_key_user1)\n",
        "    print(\"Public Key User 2:\", public_key_user2)\n",
        "    print(\"Shared Secret User 1:\", secret_user1)\n",
        "    print(\"Shared Secret User 2:\", secret_user2)\n",
        "\n",
        "if __name__ == \"__main__\":\n",
        "    main()\n"
      ],
      "metadata": {
        "colab": {
          "base_uri": "https://localhost:8080/"
        },
        "id": "adbsUdWECRK4",
        "outputId": "2d61a9cb-a896-49f5-be3a-eea959018ea9"
      },
      "execution_count": null,
      "outputs": [
        {
          "output_type": "stream",
          "name": "stdout",
          "text": [
            "Public Key User 1: 9\n",
            "Public Key User 2: 4\n",
            "Shared Secret User 1: 3\n",
            "Shared Secret User 2: 3\n"
          ]
        }
      ]
    }
  ]
}