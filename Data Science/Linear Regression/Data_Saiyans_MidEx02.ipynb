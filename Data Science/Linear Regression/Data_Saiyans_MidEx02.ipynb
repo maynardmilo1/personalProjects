{
  "nbformat": 4,
  "nbformat_minor": 0,
  "metadata": {
    "colab": {
      "provenance": []
    },
    "kernelspec": {
      "name": "python3",
      "display_name": "Python 3"
    },
    "language_info": {
      "name": "python"
    }
  },
  "cells": [
    {
      "cell_type": "code",
      "execution_count": null,
      "metadata": {
        "id": "ciaZNY5DWYX0"
      },
      "outputs": [],
      "source": [
        "#Import necessary libraries\n",
        "\n",
        "import pandas as pd\n",
        "import statistics\n",
        "import matplotlib.pyplot as plt\n",
        "from sklearn.linear_model import LinearRegression\n",
        "from sklearn.model_selection import train_test_split"
      ]
    },
    {
      "cell_type": "code",
      "source": [
        "dataset = pd.read_csv(\"cardata.csv\")\n",
        "dataset"
      ],
      "metadata": {
        "id": "HKVu25wEY0Lt",
        "colab": {
          "base_uri": "https://localhost:8080/",
          "height": 424
        },
        "outputId": "58baa465-c852-4daf-fd6c-218805bae8d5"
      },
      "execution_count": null,
      "outputs": [
        {
          "output_type": "execute_result",
          "data": {
            "text/plain": [
              "    Car_Name  Year  Selling_Price  Present_Price  Kms_Driven Fuel_Type  \\\n",
              "0       ritz  2014           3.35           5.59       27000    Petrol   \n",
              "1        sx4  2013           4.75           9.54       43000    Diesel   \n",
              "2       ciaz  2017           7.25           9.85        6900    Petrol   \n",
              "3    wagon r  2011           2.85           4.15        5200    Petrol   \n",
              "4      swift  2014           4.60           6.87       42450    Diesel   \n",
              "..       ...   ...            ...            ...         ...       ...   \n",
              "296     city  2016           9.50          11.60       33988    Diesel   \n",
              "297     brio  2015           4.00           5.90       60000    Petrol   \n",
              "298     city  2009           3.35          11.00       87934    Petrol   \n",
              "299     city  2017          11.50          12.50        9000    Diesel   \n",
              "300     brio  2016           5.30           5.90        5464    Petrol   \n",
              "\n",
              "    Seller_Type Transmission  Owner  \n",
              "0        Dealer       Manual      0  \n",
              "1        Dealer       Manual      0  \n",
              "2        Dealer       Manual      0  \n",
              "3        Dealer       Manual      0  \n",
              "4        Dealer       Manual      0  \n",
              "..          ...          ...    ...  \n",
              "296      Dealer       Manual      0  \n",
              "297      Dealer       Manual      0  \n",
              "298      Dealer       Manual      0  \n",
              "299      Dealer       Manual      0  \n",
              "300      Dealer       Manual      0  \n",
              "\n",
              "[301 rows x 9 columns]"
            ],
            "text/html": [
              "\n",
              "  <div id=\"df-a2e0cdf2-6591-49f3-9296-0b81e92ddf9b\">\n",
              "    <div class=\"colab-df-container\">\n",
              "      <div>\n",
              "<style scoped>\n",
              "    .dataframe tbody tr th:only-of-type {\n",
              "        vertical-align: middle;\n",
              "    }\n",
              "\n",
              "    .dataframe tbody tr th {\n",
              "        vertical-align: top;\n",
              "    }\n",
              "\n",
              "    .dataframe thead th {\n",
              "        text-align: right;\n",
              "    }\n",
              "</style>\n",
              "<table border=\"1\" class=\"dataframe\">\n",
              "  <thead>\n",
              "    <tr style=\"text-align: right;\">\n",
              "      <th></th>\n",
              "      <th>Car_Name</th>\n",
              "      <th>Year</th>\n",
              "      <th>Selling_Price</th>\n",
              "      <th>Present_Price</th>\n",
              "      <th>Kms_Driven</th>\n",
              "      <th>Fuel_Type</th>\n",
              "      <th>Seller_Type</th>\n",
              "      <th>Transmission</th>\n",
              "      <th>Owner</th>\n",
              "    </tr>\n",
              "  </thead>\n",
              "  <tbody>\n",
              "    <tr>\n",
              "      <th>0</th>\n",
              "      <td>ritz</td>\n",
              "      <td>2014</td>\n",
              "      <td>3.35</td>\n",
              "      <td>5.59</td>\n",
              "      <td>27000</td>\n",
              "      <td>Petrol</td>\n",
              "      <td>Dealer</td>\n",
              "      <td>Manual</td>\n",
              "      <td>0</td>\n",
              "    </tr>\n",
              "    <tr>\n",
              "      <th>1</th>\n",
              "      <td>sx4</td>\n",
              "      <td>2013</td>\n",
              "      <td>4.75</td>\n",
              "      <td>9.54</td>\n",
              "      <td>43000</td>\n",
              "      <td>Diesel</td>\n",
              "      <td>Dealer</td>\n",
              "      <td>Manual</td>\n",
              "      <td>0</td>\n",
              "    </tr>\n",
              "    <tr>\n",
              "      <th>2</th>\n",
              "      <td>ciaz</td>\n",
              "      <td>2017</td>\n",
              "      <td>7.25</td>\n",
              "      <td>9.85</td>\n",
              "      <td>6900</td>\n",
              "      <td>Petrol</td>\n",
              "      <td>Dealer</td>\n",
              "      <td>Manual</td>\n",
              "      <td>0</td>\n",
              "    </tr>\n",
              "    <tr>\n",
              "      <th>3</th>\n",
              "      <td>wagon r</td>\n",
              "      <td>2011</td>\n",
              "      <td>2.85</td>\n",
              "      <td>4.15</td>\n",
              "      <td>5200</td>\n",
              "      <td>Petrol</td>\n",
              "      <td>Dealer</td>\n",
              "      <td>Manual</td>\n",
              "      <td>0</td>\n",
              "    </tr>\n",
              "    <tr>\n",
              "      <th>4</th>\n",
              "      <td>swift</td>\n",
              "      <td>2014</td>\n",
              "      <td>4.60</td>\n",
              "      <td>6.87</td>\n",
              "      <td>42450</td>\n",
              "      <td>Diesel</td>\n",
              "      <td>Dealer</td>\n",
              "      <td>Manual</td>\n",
              "      <td>0</td>\n",
              "    </tr>\n",
              "    <tr>\n",
              "      <th>...</th>\n",
              "      <td>...</td>\n",
              "      <td>...</td>\n",
              "      <td>...</td>\n",
              "      <td>...</td>\n",
              "      <td>...</td>\n",
              "      <td>...</td>\n",
              "      <td>...</td>\n",
              "      <td>...</td>\n",
              "      <td>...</td>\n",
              "    </tr>\n",
              "    <tr>\n",
              "      <th>296</th>\n",
              "      <td>city</td>\n",
              "      <td>2016</td>\n",
              "      <td>9.50</td>\n",
              "      <td>11.60</td>\n",
              "      <td>33988</td>\n",
              "      <td>Diesel</td>\n",
              "      <td>Dealer</td>\n",
              "      <td>Manual</td>\n",
              "      <td>0</td>\n",
              "    </tr>\n",
              "    <tr>\n",
              "      <th>297</th>\n",
              "      <td>brio</td>\n",
              "      <td>2015</td>\n",
              "      <td>4.00</td>\n",
              "      <td>5.90</td>\n",
              "      <td>60000</td>\n",
              "      <td>Petrol</td>\n",
              "      <td>Dealer</td>\n",
              "      <td>Manual</td>\n",
              "      <td>0</td>\n",
              "    </tr>\n",
              "    <tr>\n",
              "      <th>298</th>\n",
              "      <td>city</td>\n",
              "      <td>2009</td>\n",
              "      <td>3.35</td>\n",
              "      <td>11.00</td>\n",
              "      <td>87934</td>\n",
              "      <td>Petrol</td>\n",
              "      <td>Dealer</td>\n",
              "      <td>Manual</td>\n",
              "      <td>0</td>\n",
              "    </tr>\n",
              "    <tr>\n",
              "      <th>299</th>\n",
              "      <td>city</td>\n",
              "      <td>2017</td>\n",
              "      <td>11.50</td>\n",
              "      <td>12.50</td>\n",
              "      <td>9000</td>\n",
              "      <td>Diesel</td>\n",
              "      <td>Dealer</td>\n",
              "      <td>Manual</td>\n",
              "      <td>0</td>\n",
              "    </tr>\n",
              "    <tr>\n",
              "      <th>300</th>\n",
              "      <td>brio</td>\n",
              "      <td>2016</td>\n",
              "      <td>5.30</td>\n",
              "      <td>5.90</td>\n",
              "      <td>5464</td>\n",
              "      <td>Petrol</td>\n",
              "      <td>Dealer</td>\n",
              "      <td>Manual</td>\n",
              "      <td>0</td>\n",
              "    </tr>\n",
              "  </tbody>\n",
              "</table>\n",
              "<p>301 rows × 9 columns</p>\n",
              "</div>\n",
              "      <button class=\"colab-df-convert\" onclick=\"convertToInteractive('df-a2e0cdf2-6591-49f3-9296-0b81e92ddf9b')\"\n",
              "              title=\"Convert this dataframe to an interactive table.\"\n",
              "              style=\"display:none;\">\n",
              "        \n",
              "  <svg xmlns=\"http://www.w3.org/2000/svg\" height=\"24px\"viewBox=\"0 0 24 24\"\n",
              "       width=\"24px\">\n",
              "    <path d=\"M0 0h24v24H0V0z\" fill=\"none\"/>\n",
              "    <path d=\"M18.56 5.44l.94 2.06.94-2.06 2.06-.94-2.06-.94-.94-2.06-.94 2.06-2.06.94zm-11 1L8.5 8.5l.94-2.06 2.06-.94-2.06-.94L8.5 2.5l-.94 2.06-2.06.94zm10 10l.94 2.06.94-2.06 2.06-.94-2.06-.94-.94-2.06-.94 2.06-2.06.94z\"/><path d=\"M17.41 7.96l-1.37-1.37c-.4-.4-.92-.59-1.43-.59-.52 0-1.04.2-1.43.59L10.3 9.45l-7.72 7.72c-.78.78-.78 2.05 0 2.83L4 21.41c.39.39.9.59 1.41.59.51 0 1.02-.2 1.41-.59l7.78-7.78 2.81-2.81c.8-.78.8-2.07 0-2.86zM5.41 20L4 18.59l7.72-7.72 1.47 1.35L5.41 20z\"/>\n",
              "  </svg>\n",
              "      </button>\n",
              "      \n",
              "  <style>\n",
              "    .colab-df-container {\n",
              "      display:flex;\n",
              "      flex-wrap:wrap;\n",
              "      gap: 12px;\n",
              "    }\n",
              "\n",
              "    .colab-df-convert {\n",
              "      background-color: #E8F0FE;\n",
              "      border: none;\n",
              "      border-radius: 50%;\n",
              "      cursor: pointer;\n",
              "      display: none;\n",
              "      fill: #1967D2;\n",
              "      height: 32px;\n",
              "      padding: 0 0 0 0;\n",
              "      width: 32px;\n",
              "    }\n",
              "\n",
              "    .colab-df-convert:hover {\n",
              "      background-color: #E2EBFA;\n",
              "      box-shadow: 0px 1px 2px rgba(60, 64, 67, 0.3), 0px 1px 3px 1px rgba(60, 64, 67, 0.15);\n",
              "      fill: #174EA6;\n",
              "    }\n",
              "\n",
              "    [theme=dark] .colab-df-convert {\n",
              "      background-color: #3B4455;\n",
              "      fill: #D2E3FC;\n",
              "    }\n",
              "\n",
              "    [theme=dark] .colab-df-convert:hover {\n",
              "      background-color: #434B5C;\n",
              "      box-shadow: 0px 1px 3px 1px rgba(0, 0, 0, 0.15);\n",
              "      filter: drop-shadow(0px 1px 2px rgba(0, 0, 0, 0.3));\n",
              "      fill: #FFFFFF;\n",
              "    }\n",
              "  </style>\n",
              "\n",
              "      <script>\n",
              "        const buttonEl =\n",
              "          document.querySelector('#df-a2e0cdf2-6591-49f3-9296-0b81e92ddf9b button.colab-df-convert');\n",
              "        buttonEl.style.display =\n",
              "          google.colab.kernel.accessAllowed ? 'block' : 'none';\n",
              "\n",
              "        async function convertToInteractive(key) {\n",
              "          const element = document.querySelector('#df-a2e0cdf2-6591-49f3-9296-0b81e92ddf9b');\n",
              "          const dataTable =\n",
              "            await google.colab.kernel.invokeFunction('convertToInteractive',\n",
              "                                                     [key], {});\n",
              "          if (!dataTable) return;\n",
              "\n",
              "          const docLinkHtml = 'Like what you see? Visit the ' +\n",
              "            '<a target=\"_blank\" href=https://colab.research.google.com/notebooks/data_table.ipynb>data table notebook</a>'\n",
              "            + ' to learn more about interactive tables.';\n",
              "          element.innerHTML = '';\n",
              "          dataTable['output_type'] = 'display_data';\n",
              "          await google.colab.output.renderOutput(dataTable, element);\n",
              "          const docLink = document.createElement('div');\n",
              "          docLink.innerHTML = docLinkHtml;\n",
              "          element.appendChild(docLink);\n",
              "        }\n",
              "      </script>\n",
              "    </div>\n",
              "  </div>\n",
              "  "
            ]
          },
          "metadata": {},
          "execution_count": 2
        }
      ]
    },
    {
      "cell_type": "markdown",
      "source": [
        "1.) Set aside 10% of the dataset (will serve as unseen data). The remaining part of the data set (90%) can be split into 80-20 proportion (training and testing data, respectively)."
      ],
      "metadata": {
        "id": "nWWrAK5MfzqO"
      }
    },
    {
      "cell_type": "code",
      "source": [
        "X = dataset.drop(columns=['Selling_Price'])\n",
        "y = dataset['Selling_Price']\n",
        "\n",
        "encoder = preprocessing.LabelEncoder()\n",
        "\n",
        "X[\"Car_Name\"] = encoder.fit_transform(dataset[\"Car_Name\"])\n",
        "X[\"Fuel_Type\"] = encoder.fit_transform(dataset[\"Fuel_Type\"])\n",
        "X[\"Seller_Type\"] = encoder.fit_transform(dataset[\"Seller_Type\"])\n",
        "X[\"Transmission\"] = encoder.fit_transform(dataset[\"Transmission\"])\n",
        "\n",
        "#10% unseen and 90% seen\n",
        "X_seen, X_unseen, y_seen, y_unseen = train_test_split(X, y, train_size=0.9, test_size=0.1, random_state=42)\n",
        "\n",
        "#80% training and 20% testing\n",
        "X_train, X_test, y_train, y_test = train_test_split(X_seen, y_seen, train_size=0.8, test_size=0.2, random_state=42)"
      ],
      "metadata": {
        "id": "Wft4YJD0dZKR"
      },
      "execution_count": null,
      "outputs": []
    },
    {
      "cell_type": "markdown",
      "source": [
        "2.) a. Display the descriptive statistics of the selling price.\n",
        "Question: Describe the price based on the different descriptive statistics"
      ],
      "metadata": {
        "id": "uISbv_iPfvlJ"
      }
    },
    {
      "cell_type": "code",
      "source": [
        "#This describes the selling price of the data set using different descriptive statistical tools\n",
        "SellingPriceStats = dataset['Selling_Price'].describe()#Describes the selling price\n",
        "mode = statistics.mode(dataset['Selling_Price'])#Get the most occuring selling price\n",
        "minYear = dataset['Year'].min() #obtain the earliest year in the data set\n",
        "maxYear = dataset['Year'].max()#Obtain the latest year in the data set\n",
        "print(minYear, \"to\", maxYear)\n",
        "print(SellingPriceStats)\n",
        "print(\"Mode \",mode)\n",
        "std = statistics.stdev(dataset['Selling_Price']) #The standard deviation\n",
        "mean = statistics.mean(dataset['Selling_Price']) #The average selling price\n",
        "cv = (std/mean) * 100 #Obtain the Coefficient of Variation\n",
        "print(cv,'%')"
      ],
      "metadata": {
        "colab": {
          "base_uri": "https://localhost:8080/"
        },
        "id": "13MfvkOwfvAW",
        "outputId": "1556e1f6-040d-44b9-a7c2-088e4f8ca2db"
      },
      "execution_count": null,
      "outputs": [
        {
          "output_type": "stream",
          "name": "stdout",
          "text": [
            "2003 to 2018\n",
            "count    301.000000\n",
            "mean       4.661296\n",
            "std        5.082812\n",
            "min        0.100000\n",
            "25%        0.900000\n",
            "50%        3.600000\n",
            "75%        6.000000\n",
            "max       35.000000\n",
            "Name: Selling_Price, dtype: float64\n",
            "Mode  0.6\n",
            "109.04289073158608 %\n"
          ]
        }
      ]
    },
    {
      "cell_type": "markdown",
      "source": [
        "b. Create a scatter plot for each independent variable and the dependent variable.\n",
        "Question: Describe the relationship between each independent variable and\n",
        "dependent variable.\n"
      ],
      "metadata": {
        "id": "290by1UrhQPt"
      }
    },
    {
      "cell_type": "code",
      "source": [
        "#Car Name vs Selling Price\n",
        "x_axis= 'Car_Name'\n",
        "y_axis = 'Selling_Price'\n",
        "\n",
        "plt.scatter(dataset[x_axis], dataset[y_axis])\n",
        "\n",
        "\n",
        "plt.xlabel(x_axis)\n",
        "plt.ylabel(y_axis)\n",
        "plt.title('Scatter Plot of {} vs {}'.format(x_axis, y_axis))\n",
        "\n",
        "plt.show()"
      ],
      "metadata": {
        "colab": {
          "base_uri": "https://localhost:8080/",
          "height": 296
        },
        "id": "h-EzCmklhQH9",
        "outputId": "fda13dbd-acc5-42b6-d188-7c5e51e9945b"
      },
      "execution_count": null,
      "outputs": [
        {
          "output_type": "display_data",
          "data": {
            "text/plain": [
              "<Figure size 432x288 with 1 Axes>"
            ],
            "image/png": "[encoded data removed]"
          },
          "metadata": {
            "needs_background": "light"
          }
        }
      ]
    },
    {
      "cell_type": "code",
      "source": [
        "#Year vs Selling Price\n",
        "x_axis= 'Year'\n",
        "y_axis = 'Selling_Price'\n",
        "\n",
        "plt.scatter(dataset[x_axis], dataset[y_axis])\n",
        "\n",
        "\n",
        "plt.xlabel(x_axis)\n",
        "plt.ylabel(y_axis)\n",
        "plt.title('Scatter Plot of {} vs {}'.format(x_axis, y_axis))\n",
        "\n",
        "plt.show()"
      ],
      "metadata": {
        "colab": {
          "base_uri": "https://localhost:8080/",
          "height": 295
        },
        "id": "aD1_RqiqhPwg",
        "outputId": "89ed603c-5672-42d9-ef45-186426a0413c"
      },
      "execution_count": null,
      "outputs": [
        {
          "output_type": "display_data",
          "data": {
            "text/plain": [
              "<Figure size 432x288 with 1 Axes>"
            ],
            "image/png": "[encoded data removed]"
          },
          "metadata": {
            "needs_background": "light"
          }
        }
      ]
    },
    {
      "cell_type": "code",
      "source": [
        "#Present_Price vs Selling Price\n",
        "x_axis= 'Present_Price'\n",
        "y_axis = 'Selling_Price'\n",
        "\n",
        "plt.scatter(dataset[x_axis], dataset[y_axis])\n",
        "\n",
        "\n",
        "plt.xlabel(x_axis)\n",
        "plt.ylabel(y_axis)\n",
        "plt.title('Scatter Plot of {} vs {}'.format(x_axis, y_axis))\n",
        "\n",
        "plt.show()"
      ],
      "metadata": {
        "colab": {
          "base_uri": "https://localhost:8080/",
          "height": 296
        },
        "id": "tljuIg3RiJW1",
        "outputId": "9e60cd9a-e66e-4e13-fe16-aa2145ccfa0f"
      },
      "execution_count": null,
      "outputs": [
        {
          "output_type": "display_data",
          "data": {
            "text/plain": [
              "<Figure size 432x288 with 1 Axes>"
            ],
            "image/png": "[encoded data removed]"
          },
          "metadata": {
            "needs_background": "light"
          }
        }
      ]
    },
    {
      "cell_type": "code",
      "source": [
        "#Kms_Driven vs Selling Price\n",
        "x_axis= 'Kms_Driven'\n",
        "y_axis = 'Selling_Price'\n",
        "\n",
        "plt.scatter(dataset[x_axis], dataset[y_axis])\n",
        "\n",
        "\n",
        "plt.xlabel(x_axis)\n",
        "plt.ylabel(y_axis)\n",
        "plt.title('Scatter Plot of {} vs {}'.format(x_axis, y_axis))\n",
        "\n",
        "plt.show()"
      ],
      "metadata": {
        "colab": {
          "base_uri": "https://localhost:8080/",
          "height": 296
        },
        "id": "0xr_45QCiO6L",
        "outputId": "1801eb36-8781-48a7-baa6-091502e81f86"
      },
      "execution_count": null,
      "outputs": [
        {
          "output_type": "display_data",
          "data": {
            "text/plain": [
              "<Figure size 432x288 with 1 Axes>"
            ],
            "image/png": "[encoded data removed]"
          },
          "metadata": {
            "needs_background": "light"
          }
        }
      ]
    },
    {
      "cell_type": "code",
      "source": [
        "#Fuel_Type vs Selling Price\n",
        "x_axis= 'Fuel_Type'\n",
        "y_axis = 'Selling_Price'\n",
        "\n",
        "plt.scatter(dataset[x_axis], dataset[y_axis])\n",
        "\n",
        "\n",
        "plt.xlabel(x_axis)\n",
        "plt.ylabel(y_axis)\n",
        "plt.title('Scatter Plot of {} vs {}'.format(x_axis, y_axis))\n",
        "\n",
        "plt.show()"
      ],
      "metadata": {
        "colab": {
          "base_uri": "https://localhost:8080/",
          "height": 296
        },
        "id": "RlOtm0P4iXYT",
        "outputId": "d4dd57e2-de9d-413c-d037-d3026ce7a77a"
      },
      "execution_count": null,
      "outputs": [
        {
          "output_type": "display_data",
          "data": {
            "text/plain": [
              "<Figure size 432x288 with 1 Axes>"
            ],
            "image/png": "[encoded data removed]"
          },
          "metadata": {
            "needs_background": "light"
          }
        }
      ]
    },
    {
      "cell_type": "code",
      "source": [
        "#Seller_Type vs Selling Price\n",
        "x_axis= 'Seller_Type'\n",
        "y_axis = 'Selling_Price'\n",
        "\n",
        "plt.scatter(dataset[x_axis], dataset[y_axis])\n",
        "\n",
        "\n",
        "plt.xlabel(x_axis)\n",
        "plt.ylabel(y_axis)\n",
        "plt.title('Scatter Plot of {} vs {}'.format(x_axis, y_axis))\n",
        "\n",
        "plt.show()"
      ],
      "metadata": {
        "colab": {
          "base_uri": "https://localhost:8080/",
          "height": 296
        },
        "id": "zV2GPXHBiczu",
        "outputId": "931dee91-0eac-474a-d843-15c19402aac9"
      },
      "execution_count": null,
      "outputs": [
        {
          "output_type": "display_data",
          "data": {
            "text/plain": [
              "<Figure size 432x288 with 1 Axes>"
            ],
            "image/png": "[encoded data removed]"
          },
          "metadata": {
            "needs_background": "light"
          }
        }
      ]
    },
    {
      "cell_type": "code",
      "source": [
        "#Transmission vs Selling Price\n",
        "x_axis= 'Transmission'\n",
        "y_axis = 'Selling_Price'\n",
        "\n",
        "plt.scatter(dataset[x_axis], dataset[y_axis])\n",
        "\n",
        "\n",
        "plt.xlabel(x_axis)\n",
        "plt.ylabel(y_axis)\n",
        "plt.title('Scatter Plot of {} vs {}'.format(x_axis, y_axis))\n",
        "\n",
        "plt.show()"
      ],
      "metadata": {
        "colab": {
          "base_uri": "https://localhost:8080/",
          "height": 295
        },
        "id": "mcDYbdu3ih0l",
        "outputId": "2a8345df-c19c-42d0-9ba0-a0306505aa26"
      },
      "execution_count": null,
      "outputs": [
        {
          "output_type": "display_data",
          "data": {
            "text/plain": [
              "<Figure size 432x288 with 1 Axes>"
            ],
            "image/png": "[encoded data removed]"
          },
          "metadata": {
            "needs_background": "light"
          }
        }
      ]
    },
    {
      "cell_type": "code",
      "source": [
        "#Owner vs Selling Price\n",
        "x_axis= 'Owner'\n",
        "y_axis = 'Selling_Price'\n",
        "\n",
        "plt.scatter(dataset[x_axis], dataset[y_axis])\n",
        "\n",
        "\n",
        "plt.xlabel(x_axis)\n",
        "plt.ylabel(y_axis)\n",
        "plt.title('Scatter Plot of {} vs {}'.format(x_axis, y_axis))\n",
        "\n",
        "plt.show()"
      ],
      "metadata": {
        "colab": {
          "base_uri": "https://localhost:8080/",
          "height": 295
        },
        "id": "o3oCxgZuilic",
        "outputId": "e48e72ed-3cce-4721-acc3-0ca735cb0d7d"
      },
      "execution_count": null,
      "outputs": [
        {
          "output_type": "display_data",
          "data": {
            "text/plain": [
              "<Figure size 432x288 with 1 Axes>"
            ],
            "image/png": "[encoded data removed]"
          },
          "metadata": {
            "needs_background": "light"
          }
        }
      ]
    },
    {
      "cell_type": "markdown",
      "source": [
        "c. Determine the correlation between each independent variable and dependent\n",
        "variable using the correlation coefficient and a visualization\n",
        "Question: Based on the computed correlation coefficient and visualization, among\n",
        "the different independent variables, which yielded the highest correlation?\n"
      ],
      "metadata": {
        "id": "eF80Lx9Fiqym"
      }
    },
    {
      "cell_type": "code",
      "source": [
        "from sklearn import preprocessing"
      ],
      "metadata": {
        "id": "JRTlySHBmHmz"
      },
      "execution_count": null,
      "outputs": []
    },
    {
      "cell_type": "code",
      "source": [
        "x_axis= 'Car_Name'\n",
        "y_axis = 'Selling_Price'\n",
        "correlation = dataset[x_axis].corr(dataset[y_axis])\n",
        "print('Correlation between {} and {}: {}'.format(x_axis, y_axis, correlation))"
      ],
      "metadata": {
        "colab": {
          "base_uri": "https://localhost:8080/"
        },
        "id": "AfX6dayhiqma",
        "outputId": "ecb6468f-6704-4fb4-8d4f-e278c950b838"
      },
      "execution_count": null,
      "outputs": [
        {
          "output_type": "stream",
          "name": "stdout",
          "text": [
            "Correlation between Car_Name and Selling_Price: 0.49919806241797815\n"
          ]
        }
      ]
    },
    {
      "cell_type": "code",
      "source": [
        "x_axis= 'Year'\n",
        "y_axis = 'Selling_Price'\n",
        "correlation = dataset['Year'].corr(dataset['Selling_Price'])\n",
        "print('Correlation between {} and {}: {}'.format(x_axis, y_axis, correlation))"
      ],
      "metadata": {
        "colab": {
          "base_uri": "https://localhost:8080/"
        },
        "id": "DlQqATJzjOic",
        "outputId": "c39ea7e5-ea19-4b16-af2c-41cfcc1c1261"
      },
      "execution_count": null,
      "outputs": [
        {
          "output_type": "stream",
          "name": "stdout",
          "text": [
            "Correlation between Year and Selling_Price: 0.23614098016042734\n"
          ]
        }
      ]
    },
    {
      "cell_type": "code",
      "source": [
        "x_axis= 'Present_Price'\n",
        "y_axis = 'Selling_Price'\n",
        "correlation = dataset['Present_Price'].corr(dataset['Selling_Price'])\n",
        "print('Correlation between {} and {}: {}'.format(x_axis, y_axis, correlation))"
      ],
      "metadata": {
        "colab": {
          "base_uri": "https://localhost:8080/"
        },
        "id": "_Va7evHpjPNu",
        "outputId": "8201fa0e-a466-466f-92af-3ff9b14afecf"
      },
      "execution_count": null,
      "outputs": [
        {
          "output_type": "stream",
          "name": "stdout",
          "text": [
            "Correlation between Present_Price and Selling_Price: 0.8789825451614951\n"
          ]
        }
      ]
    },
    {
      "cell_type": "code",
      "source": [
        "x_axis= 'Kms_Driven'\n",
        "y_axis = 'Selling_Price'\n",
        "correlation = dataset['Kms_Driven'].corr(dataset['Selling_Price'])\n",
        "print('Correlation between {} and {}: {}'.format(x_axis, y_axis, correlation))"
      ],
      "metadata": {
        "colab": {
          "base_uri": "https://localhost:8080/"
        },
        "id": "7P4Y7pkhjPLX",
        "outputId": "77e309bc-7f47-493a-e47b-760183ff3e89"
      },
      "execution_count": null,
      "outputs": [
        {
          "output_type": "stream",
          "name": "stdout",
          "text": [
            "Correlation between Kms_Driven and Selling_Price: 0.029187090674291236\n"
          ]
        }
      ]
    },
    {
      "cell_type": "code",
      "source": [
        "x_axis= 'Fuel_Type'\n",
        "y_axis = 'Selling_Price'\n",
        "correlation = dataset[x_axis].corr(dataset[y_axis])\n",
        "print('Correlation between {} and {}: {}'.format(x_axis, y_axis, correlation))"
      ],
      "metadata": {
        "colab": {
          "base_uri": "https://localhost:8080/"
        },
        "id": "jYO9pQBcjPIf",
        "outputId": "95f2b0e0-5ae8-43a3-fe01-9e39a96bbd85"
      },
      "execution_count": null,
      "outputs": [
        {
          "output_type": "stream",
          "name": "stdout",
          "text": [
            "Correlation between Fuel_Type and Selling_Price: -0.50946725693251\n"
          ]
        }
      ]
    },
    {
      "cell_type": "code",
      "source": [
        "x_axis= 'Seller_Type'\n",
        "y_axis = 'Selling_Price'\n",
        "correlation = dataset[x_axis].corr(dataset[y_axis])\n",
        "print('Correlation between {} and {}: {}'.format(x_axis, y_axis, correlation))"
      ],
      "metadata": {
        "colab": {
          "base_uri": "https://localhost:8080/"
        },
        "id": "BMMQSlzNjPFe",
        "outputId": "7dcc69ed-71fb-411c-bd7f-fe4bec83857c"
      },
      "execution_count": null,
      "outputs": [
        {
          "output_type": "stream",
          "name": "stdout",
          "text": [
            "Correlation between Seller_Type and Selling_Price: -0.5507237615778758\n"
          ]
        }
      ]
    },
    {
      "cell_type": "code",
      "source": [
        "x_axis= 'Transmission'\n",
        "y_axis = 'Selling_Price'\n",
        "correlation = dataset[x_axis].corr(dataset[y_axis])\n",
        "print('Correlation between {} and {}: {}'.format(x_axis, y_axis, correlation))"
      ],
      "metadata": {
        "colab": {
          "base_uri": "https://localhost:8080/"
        },
        "id": "7-Q_efl1jO_i",
        "outputId": "725fd877-98cb-4844-e98e-f543bb036e6b"
      },
      "execution_count": null,
      "outputs": [
        {
          "output_type": "stream",
          "name": "stdout",
          "text": [
            "Correlation between Transmission and Selling_Price: -0.3671276333090721\n"
          ]
        }
      ]
    },
    {
      "cell_type": "code",
      "source": [
        "x_axis= 'Owner'\n",
        "y_axis = 'Selling_Price'\n",
        "correlation = dataset[x_axis].corr(dataset[y_axis])\n",
        "print('Correlation between {} and {}: {}'.format(x_axis, y_axis, correlation))"
      ],
      "metadata": {
        "colab": {
          "base_uri": "https://localhost:8080/"
        },
        "id": "OHaIP7ERjsqO",
        "outputId": "054ed2c8-3aa7-4363-f9d6-ecea73db37a0"
      },
      "execution_count": null,
      "outputs": [
        {
          "output_type": "stream",
          "name": "stdout",
          "text": [
            "Correlation between Owner and Selling_Price: -0.0964873856476451\n"
          ]
        }
      ]
    },
    {
      "cell_type": "code",
      "source": [
        "import seaborn as sns\n",
        "import numpy as np\n",
        "corr = dataset.corr()\n",
        "plt.figure(figsize=(16,6))\n",
        "matrix = np.triu(corr)\n",
        "heatmap = sns.heatmap(dataset.corr(), vmin =-1, vmax=1, annot = True, mask=matrix)"
      ],
      "metadata": {
        "id": "hoVy8Du9lb85",
        "colab": {
          "base_uri": "https://localhost:8080/",
          "height": 379
        },
        "outputId": "bf705571-32f2-49fb-cc10-86c9b4f864e8"
      },
      "execution_count": null,
      "outputs": [
        {
          "output_type": "display_data",
          "data": {
            "text/plain": [
              "<Figure size 1152x432 with 2 Axes>"
            ],
            "image/png": "[encoded data removed]"
          },
          "metadata": {
            "needs_background": "light"
          }
        }
      ]
    },
    {
      "cell_type": "markdown",
      "source": [
        "d. Based on your answer to question c, create a simple regression model. Should there be\n",
        "independent variables with equal correlation coefficients, choose only one independent\n",
        "variable.\n",
        "Question: What is the regression model and explain the regression model?\n"
      ],
      "metadata": {
        "id": "F4qfT0ZNlcp3"
      }
    },
    {
      "cell_type": "code",
      "source": [
        "regressor = LinearRegression()\n",
        "regressor.fit(X_train, y_train)"
      ],
      "metadata": {
        "id": "0wX7W6bdCh94",
        "colab": {
          "base_uri": "https://localhost:8080/",
          "height": 75
        },
        "outputId": "23bbb396-adfd-4d32-d5f3-702ddb5a277a"
      },
      "execution_count": null,
      "outputs": [
        {
          "output_type": "execute_result",
          "data": {
            "text/plain": [
              "LinearRegression()"
            ],
            "text/html": [
              "<style>#sk-container-id-3 {color: black;background-color: white;}#sk-container-id-3 pre{padding: 0;}#sk-container-id-3 div.sk-toggleable {background-color: white;}#sk-container-id-3 label.sk-toggleable__label {cursor: pointer;display: block;width: 100%;margin-bottom: 0;padding: 0.3em;box-sizing: border-box;text-align: center;}#sk-container-id-3 label.sk-toggleable__label-arrow:before {content: \"▸\";float: left;margin-right: 0.25em;color: #696969;}#sk-container-id-3 label.sk-toggleable__label-arrow:hover:before {color: black;}#sk-container-id-3 div.sk-estimator:hover label.sk-toggleable__label-arrow:before {color: black;}#sk-container-id-3 div.sk-toggleable__content {max-height: 0;max-width: 0;overflow: hidden;text-align: left;background-color: #f0f8ff;}#sk-container-id-3 div.sk-toggleable__content pre {margin: 0.2em;color: black;border-radius: 0.25em;background-color: #f0f8ff;}#sk-container-id-3 input.sk-toggleable__control:checked~div.sk-toggleable__content {max-height: 200px;max-width: 100%;overflow: auto;}#sk-container-id-3 input.sk-toggleable__control:checked~label.sk-toggleable__label-arrow:before {content: \"▾\";}#sk-container-id-3 div.sk-estimator input.sk-toggleable__control:checked~label.sk-toggleable__label {background-color: #d4ebff;}#sk-container-id-3 div.sk-label input.sk-toggleable__control:checked~label.sk-toggleable__label {background-color: #d4ebff;}#sk-container-id-3 input.sk-hidden--visually {border: 0;clip: rect(1px 1px 1px 1px);clip: rect(1px, 1px, 1px, 1px);height: 1px;margin: -1px;overflow: hidden;padding: 0;position: absolute;width: 1px;}#sk-container-id-3 div.sk-estimator {font-family: monospace;background-color: #f0f8ff;border: 1px dotted black;border-radius: 0.25em;box-sizing: border-box;margin-bottom: 0.5em;}#sk-container-id-3 div.sk-estimator:hover {background-color: #d4ebff;}#sk-container-id-3 div.sk-parallel-item::after {content: \"\";width: 100%;border-bottom: 1px solid gray;flex-grow: 1;}#sk-container-id-3 div.sk-label:hover label.sk-toggleable__label {background-color: #d4ebff;}#sk-container-id-3 div.sk-serial::before {content: \"\";position: absolute;border-left: 1px solid gray;box-sizing: border-box;top: 0;bottom: 0;left: 50%;z-index: 0;}#sk-container-id-3 div.sk-serial {display: flex;flex-direction: column;align-items: center;background-color: white;padding-right: 0.2em;padding-left: 0.2em;position: relative;}#sk-container-id-3 div.sk-item {position: relative;z-index: 1;}#sk-container-id-3 div.sk-parallel {display: flex;align-items: stretch;justify-content: center;background-color: white;position: relative;}#sk-container-id-3 div.sk-item::before, #sk-container-id-3 div.sk-parallel-item::before {content: \"\";position: absolute;border-left: 1px solid gray;box-sizing: border-box;top: 0;bottom: 0;left: 50%;z-index: -1;}#sk-container-id-3 div.sk-parallel-item {display: flex;flex-direction: column;z-index: 1;position: relative;background-color: white;}#sk-container-id-3 div.sk-parallel-item:first-child::after {align-self: flex-end;width: 50%;}#sk-container-id-3 div.sk-parallel-item:last-child::after {align-self: flex-start;width: 50%;}#sk-container-id-3 div.sk-parallel-item:only-child::after {width: 0;}#sk-container-id-3 div.sk-dashed-wrapped {border: 1px dashed gray;margin: 0 0.4em 0.5em 0.4em;box-sizing: border-box;padding-bottom: 0.4em;background-color: white;}#sk-container-id-3 div.sk-label label {font-family: monospace;font-weight: bold;display: inline-block;line-height: 1.2em;}#sk-container-id-3 div.sk-label-container {text-align: center;}#sk-container-id-3 div.sk-container {/* jupyter's `normalize.less` sets `[hidden] { display: none; }` but bootstrap.min.css set `[hidden] { display: none !important; }` so we also need the `!important` here to be able to override the default hidden behavior on the sphinx rendered scikit-learn.org. See: https://github.com/scikit-learn/scikit-learn/issues/21755 */display: inline-block !important;position: relative;}#sk-container-id-3 div.sk-text-repr-fallback {display: none;}</style><div id=\"sk-container-id-3\" class=\"sk-top-container\"><div class=\"sk-text-repr-fallback\"><pre>LinearRegression()</pre><b>In a Jupyter environment, please rerun this cell to show the HTML representation or trust the notebook. <br />On GitHub, the HTML representation is unable to render, please try loading this page with nbviewer.org.</b></div><div class=\"sk-container\" hidden><div class=\"sk-item\"><div class=\"sk-estimator sk-toggleable\"><input class=\"sk-toggleable__control sk-hidden--visually\" id=\"sk-estimator-id-3\" type=\"checkbox\" checked><label for=\"sk-estimator-id-3\" class=\"sk-toggleable__label sk-toggleable__label-arrow\">LinearRegression</label><div class=\"sk-toggleable__content\"><pre>LinearRegression()</pre></div></div></div></div></div>"
            ]
          },
          "metadata": {},
          "execution_count": 130
        }
      ]
    },
    {
      "cell_type": "code",
      "source": [
        "regressor.intercept_"
      ],
      "metadata": {
        "colab": {
          "base_uri": "https://localhost:8080/"
        },
        "id": "KsIk19lWGOwp",
        "outputId": "d5a188f6-9995-443b-94a4-ddd605331e2f"
      },
      "execution_count": null,
      "outputs": [
        {
          "output_type": "execute_result",
          "data": {
            "text/plain": [
              "-763.8915961191334"
            ]
          },
          "metadata": {},
          "execution_count": 131
        }
      ]
    },
    {
      "cell_type": "code",
      "source": [
        "regressor.coef_"
      ],
      "metadata": {
        "colab": {
          "base_uri": "https://localhost:8080/"
        },
        "id": "LVb-SxnGIejm",
        "outputId": "cdcb4e2e-a45c-4357-db81-32f0a822af30"
      },
      "execution_count": null,
      "outputs": [
        {
          "output_type": "execute_result",
          "data": {
            "text/plain": [
              "array([ 1.00543547e-03,  3.82309583e-01,  4.37401553e-01, -6.94902602e-06,\n",
              "       -1.34871582e+00, -1.14563729e+00, -1.86350101e+00, -1.11810007e+00])"
            ]
          },
          "metadata": {},
          "execution_count": 132
        }
      ]
    },
    {
      "cell_type": "code",
      "source": [
        "columns = []\n",
        "for col in X.columns:\n",
        "    columns.append(col)\n",
        "\n",
        "plt.figure(figsize=(15,15))\n",
        "plt.ylabel(\"Slope Values\")\n",
        "plt.xlabel(\"Independent Variables\")\n",
        "plt.plot(columns, regressor.coef_)"
      ],
      "metadata": {
        "colab": {
          "base_uri": "https://localhost:8080/",
          "height": 896
        },
        "id": "S7fYDpf9GZuX",
        "outputId": "04629fb1-9d94-47d9-cb4e-92d344c11de1"
      },
      "execution_count": null,
      "outputs": [
        {
          "output_type": "execute_result",
          "data": {
            "text/plain": [
              "[<matplotlib.lines.Line2D at 0x7f5874f80f70>]"
            ]
          },
          "metadata": {},
          "execution_count": 133
        },
        {
          "output_type": "display_data",
          "data": {
            "text/plain": [
              "<Figure size 1080x1080 with 1 Axes>"
            ],
            "image/png": "[encoded data removed]"
          },
          "metadata": {
            "needs_background": "light"
          }
        }
      ]
    },
    {
      "cell_type": "code",
      "source": [
        "y_pred = regressor.predict(X_test)\n",
        "y_pred"
      ],
      "metadata": {
        "colab": {
          "base_uri": "https://localhost:8080/"
        },
        "id": "g6hRSTtSJamx",
        "outputId": "9307e685-9e57-4968-abd4-f4898efcebb2"
      },
      "execution_count": null,
      "outputs": [
        {
          "output_type": "execute_result",
          "data": {
            "text/plain": [
              "array([-2.87717181,  4.9223211 ,  5.62785616,  5.4118078 ,  4.22443606,\n",
              "       -0.99043882,  4.74929707,  1.91326022,  0.97479102,  3.17924263,\n",
              "        7.44829727,  4.33357988, 10.0567729 ,  0.05972169,  6.35095997,\n",
              "        0.12743192,  8.4041163 ,  4.7102719 ,  1.53868568,  0.23373821,\n",
              "        1.6847243 ,  6.93820867, 10.21870982,  4.87693605,  6.41144626,\n",
              "        3.635876  , 16.96597354,  6.09861036, -0.56202775,  9.95142341,\n",
              "       -2.13756409, -3.717323  ,  2.99860987,  6.93378346, -0.51679724,\n",
              "        7.38801176,  8.95982524,  4.30542654,  7.54588743,  6.27433153,\n",
              "        4.44569958,  5.15938224,  9.48896827,  6.95470658, -0.48358274,\n",
              "       -0.11774502,  7.95721817, 10.50554396,  6.26943847,  1.05865087,\n",
              "        7.25817002,  3.86691064,  3.75014653,  6.59583135])"
            ]
          },
          "metadata": {},
          "execution_count": 136
        }
      ]
    },
    {
      "cell_type": "markdown",
      "source": [
        "e. Evaluate the developed regression model based on the different performance measures.\n",
        "Question: Discuss the performance of the model\n"
      ],
      "metadata": {
        "id": "TcXCdMjRleAc"
      }
    },
    {
      "cell_type": "code",
      "source": [
        "from sklearn import metrics\n",
        "print(\"Mean Absolute Error: \", metrics.mean_absolute_error(y_test, y_pred))\n",
        "print(\"Mean Squared Error: \", metrics.mean_squared_error(y_test, y_pred))\n",
        "print(\"Root Mean Squared Error: \", np.sqrt(metrics.mean_squared_error(y_test, y_pred)))"
      ],
      "metadata": {
        "id": "XO-wd-nqjO05",
        "colab": {
          "base_uri": "https://localhost:8080/"
        },
        "outputId": "875f8210-1ac4-4297-c77c-1ca50a025533"
      },
      "execution_count": null,
      "outputs": [
        {
          "output_type": "stream",
          "name": "stdout",
          "text": [
            "Mean Absolute Error:  1.3196004948795905\n",
            "Mean Squared Error:  3.7730959560052004\n",
            "Root Mean Squared Error:  1.942445869517398\n"
          ]
        }
      ]
    },
    {
      "cell_type": "markdown",
      "source": [
        "f. Using the developed model, predict the car prices for the remaining 10% unseen data.\n",
        "Question: Document and describe the results of the car price predictions.\n"
      ],
      "metadata": {
        "id": "nUQu59vflg8K"
      }
    },
    {
      "cell_type": "code",
      "source": [
        "unseen_pred = regressor.predict(X_unseen)\n",
        "unseen_pred"
      ],
      "metadata": {
        "id": "Nif8CQ6Rk4Ca",
        "colab": {
          "base_uri": "https://localhost:8080/"
        },
        "outputId": "44f21bbc-88c1-4038-c61d-3ac57269b226"
      },
      "execution_count": null,
      "outputs": [
        {
          "output_type": "execute_result",
          "data": {
            "text/plain": [
              "array([ 3.11415867,  8.2253255 ,  5.8922111 , -1.87553831,  9.07012172,\n",
              "        6.92557795,  1.26419839,  0.76398589,  1.305015  ,  6.98353867,\n",
              "        8.77770682,  0.45093605,  8.61292039,  3.59981486,  6.37875607,\n",
              "        2.91760912,  0.34150839, 10.82999356,  1.73490368,  2.3629085 ,\n",
              "        0.26112322,  7.67820773,  6.08454624,  2.50819501,  0.64470028,\n",
              "        3.56554851,  5.14229458,  2.6512313 ,  2.13305295,  1.7172331 ,\n",
              "        0.2441829 ])"
            ]
          },
          "metadata": {},
          "execution_count": 138
        }
      ]
    },
    {
      "cell_type": "code",
      "source": [],
      "metadata": {
        "colab": {
          "base_uri": "https://localhost:8080/",
          "height": 294
        },
        "id": "s30PpNVCNHXD",
        "outputId": "2558bfe8-cd9a-4d53-f5f4-4f549315fce2"
      },
      "execution_count": null,
      "outputs": [
        {
          "output_type": "error",
          "ename": "ValueError",
          "evalue": "ignored",
          "traceback": [
            "\u001b[0;31m---------------------------------------------------------------------------\u001b[0m",
            "\u001b[0;31mValueError\u001b[0m                                Traceback (most recent call last)",
            "\u001b[0;32m<ipython-input-140-708ce9d0a0ff>\u001b[0m in \u001b[0;36m<module>\u001b[0;34m\u001b[0m\n\u001b[0;32m----> 1\u001b[0;31m \u001b[0mencoder\u001b[0m\u001b[0;34m.\u001b[0m\u001b[0minverse_transform\u001b[0m\u001b[0;34m(\u001b[0m\u001b[0mX_unseen\u001b[0m\u001b[0;34m[\u001b[0m\u001b[0;34m\"Car_Name\"\u001b[0m\u001b[0;34m]\u001b[0m\u001b[0;34m)\u001b[0m\u001b[0;34m\u001b[0m\u001b[0;34m\u001b[0m\u001b[0m\n\u001b[0m",
            "\u001b[0;32m/usr/local/lib/python3.9/dist-packages/sklearn/preprocessing/_label.py\u001b[0m in \u001b[0;36minverse_transform\u001b[0;34m(self, y)\u001b[0m\n\u001b[1;32m    160\u001b[0m         \u001b[0mdiff\u001b[0m \u001b[0;34m=\u001b[0m \u001b[0mnp\u001b[0m\u001b[0;34m.\u001b[0m\u001b[0msetdiff1d\u001b[0m\u001b[0;34m(\u001b[0m\u001b[0my\u001b[0m\u001b[0;34m,\u001b[0m \u001b[0mnp\u001b[0m\u001b[0;34m.\u001b[0m\u001b[0marange\u001b[0m\u001b[0;34m(\u001b[0m\u001b[0mlen\u001b[0m\u001b[0;34m(\u001b[0m\u001b[0mself\u001b[0m\u001b[0;34m.\u001b[0m\u001b[0mclasses_\u001b[0m\u001b[0;34m)\u001b[0m\u001b[0;34m)\u001b[0m\u001b[0;34m)\u001b[0m\u001b[0;34m\u001b[0m\u001b[0;34m\u001b[0m\u001b[0m\n\u001b[1;32m    161\u001b[0m         \u001b[0;32mif\u001b[0m \u001b[0mlen\u001b[0m\u001b[0;34m(\u001b[0m\u001b[0mdiff\u001b[0m\u001b[0;34m)\u001b[0m\u001b[0;34m:\u001b[0m\u001b[0;34m\u001b[0m\u001b[0;34m\u001b[0m\u001b[0m\n\u001b[0;32m--> 162\u001b[0;31m             \u001b[0;32mraise\u001b[0m \u001b[0mValueError\u001b[0m\u001b[0;34m(\u001b[0m\u001b[0;34m\"y contains previously unseen labels: %s\"\u001b[0m \u001b[0;34m%\u001b[0m \u001b[0mstr\u001b[0m\u001b[0;34m(\u001b[0m\u001b[0mdiff\u001b[0m\u001b[0;34m)\u001b[0m\u001b[0;34m)\u001b[0m\u001b[0;34m\u001b[0m\u001b[0;34m\u001b[0m\u001b[0m\n\u001b[0m\u001b[1;32m    163\u001b[0m         \u001b[0my\u001b[0m \u001b[0;34m=\u001b[0m \u001b[0mnp\u001b[0m\u001b[0;34m.\u001b[0m\u001b[0masarray\u001b[0m\u001b[0;34m(\u001b[0m\u001b[0my\u001b[0m\u001b[0;34m)\u001b[0m\u001b[0;34m\u001b[0m\u001b[0;34m\u001b[0m\u001b[0m\n\u001b[1;32m    164\u001b[0m         \u001b[0;32mreturn\u001b[0m \u001b[0mself\u001b[0m\u001b[0;34m.\u001b[0m\u001b[0mclasses_\u001b[0m\u001b[0;34m[\u001b[0m\u001b[0my\u001b[0m\u001b[0;34m]\u001b[0m\u001b[0;34m\u001b[0m\u001b[0;34m\u001b[0m\u001b[0m\n",
            "\u001b[0;31mValueError\u001b[0m: y contains previously unseen labels: [ 2 10 12 20 28 30 34 38 46 47 48 56 61 68 69 71 76 80 84 90 92 94 95]"
          ]
        }
      ]
    }
  ]
}