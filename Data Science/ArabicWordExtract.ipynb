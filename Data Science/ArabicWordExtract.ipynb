{
  "nbformat": 4,
  "nbformat_minor": 0,
  "metadata": {
    "colab": {
      "provenance": []
    },
    "kernelspec": {
      "name": "python3",
      "display_name": "Python 3"
    },
    "language_info": {
      "name": "python"
    }
  },
  "cells": [
    {
      "cell_type": "code",
      "source": [
        "import pandas as pd\n",
        "import openpyxl\n",
        "from collections import Counter\n",
        "import re\n",
        "\n",
        "# https://www.kaggle.com/datasets/asmaaabdelwahab/arabic-news-dataset\n",
        "data = pd.read_csv('processed_data.csv')\n",
        "\n",
        "def tokenize_arabic(text):\n",
        "    words = re.findall(r'[\\u0600-\\u06FF]+', text)\n",
        "    return words\n",
        "\n",
        "all_words = []\n",
        "for content in data['Content']:\n",
        "    if isinstance(content, str):\n",
        "        arabic_words = tokenize_arabic(content)\n",
        "        all_words.extend(arabic_words)\n",
        "\n",
        "word_freq = Counter(all_words)\n",
        "\n",
        "sorted_word_freq = sorted(word_freq.items(), key=lambda x: x[1], reverse=True)\n",
        "\n",
        "word_freq_df = pd.DataFrame(sorted_word_freq, columns=['Word', 'Frequency'])\n",
        "\n",
        "word_freq_df.to_excel('Words.xlsx', index=False)\n",
        "\n"
      ],
      "metadata": {
        "id": "nECRGK_yJAf9"
      },
      "execution_count": null,
      "outputs": []
    },
    {
      "cell_type": "code",
      "source": [
        "pip install translate"
      ],
      "metadata": {
        "colab": {
          "base_uri": "https://localhost:8080/"
        },
        "id": "vCS0VgdpibXR",
        "outputId": "0c455900-c10a-44ba-fd77-2dd0225053bd"
      },
      "execution_count": null,
      "outputs": [
        {
          "output_type": "stream",
          "name": "stdout",
          "text": [
            "Collecting translate\n",
            "  Downloading translate-3.6.1-py2.py3-none-any.whl (12 kB)\n",
            "Requirement already satisfied: click in /usr/local/lib/python3.10/dist-packages (from translate) (8.1.7)\n",
            "Requirement already satisfied: lxml in /usr/local/lib/python3.10/dist-packages (from translate) (4.9.4)\n",
            "Requirement already satisfied: requests in /usr/local/lib/python3.10/dist-packages (from translate) (2.31.0)\n",
            "Collecting libretranslatepy==2.1.1 (from translate)\n",
            "  Downloading libretranslatepy-2.1.1-py3-none-any.whl (3.2 kB)\n",
            "Requirement already satisfied: charset-normalizer<4,>=2 in /usr/local/lib/python3.10/dist-packages (from requests->translate) (3.3.2)\n",
            "Requirement already satisfied: idna<4,>=2.5 in /usr/local/lib/python3.10/dist-packages (from requests->translate) (2.10)\n",
            "Requirement already satisfied: urllib3<3,>=1.21.1 in /usr/local/lib/python3.10/dist-packages (from requests->translate) (2.0.7)\n",
            "Requirement already satisfied: certifi>=2017.4.17 in /usr/local/lib/python3.10/dist-packages (from requests->translate) (2024.2.2)\n",
            "Installing collected packages: libretranslatepy, translate\n",
            "Successfully installed libretranslatepy-2.1.1 translate-3.6.1\n"
          ]
        }
      ]
    },
    {
      "cell_type": "code",
      "source": [
        "pip install arabic_reshaper\n",
        "pip install buckwalter"
      ],
      "metadata": {
        "id": "VpX0GlIPqqgb"
      },
      "execution_count": null,
      "outputs": []
    },
    {
      "cell_type": "code",
      "source": [
        "import pandas as pd\n",
        "import arabic_reshaper\n",
        "from buckwalter import transliterate\n",
        "\n",
        "def romanize_arabic(text):\n",
        "    reshaped_text = arabic_reshaper.reshape(text)\n",
        "    romanized_text = transliterate(reshaped_text)\n",
        "    return romanized_text\n",
        "\n",
        "def translate_to_english_and_romanize(text):\n",
        "    translator = Translator()\n",
        "    translation = translator.translate(text, dest='en')\n",
        "    english_text = translation.text\n",
        "    romanized_text = romanize_arabic(text)\n",
        "    return english_text, romanized_text\n",
        "\n",
        "def translate_excel_file(excel_file_path):\n",
        "    # Read the Excel file\n",
        "    df = pd.read_excel(excel_file_path)\n",
        "\n",
        "    # Translate the words in the 'Word' column to English and romanize the Arabic words\n",
        "    df['English'], df['Romanized'] = zip(*df['Word'].apply(translate_to_english_and_romanize))\n",
        "\n",
        "    # Write the translations and romanizations back to the Excel file\n",
        "    with pd.ExcelWriter(excel_file_path, engine='openpyxl', mode='a') as writer:\n",
        "        df.to_excel(writer, index=False, sheet_name='Sheet1')\n",
        "\n",
        "if __name__ == \"__main__\":\n",
        "    excel_file_path = 'Words.xlsx'\n",
        "    translate_excel_file(excel_file_path)\n"
      ],
      "metadata": {
        "id": "ry1q5IFrhxe-"
      },
      "execution_count": null,
      "outputs": []
    }
  ]
}